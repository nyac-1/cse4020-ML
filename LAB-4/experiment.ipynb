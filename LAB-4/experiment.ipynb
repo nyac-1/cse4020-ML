{
 "cells": [
  {
   "cell_type": "code",
   "execution_count": 1,
   "metadata": {},
   "outputs": [],
   "source": [
    "import pandas as pd\n",
    "import numpy as np\n",
    "from sklearn.svm import SVC\n",
    "import math\n",
    "import matplotlib.pyplot as plt"
   ]
  },
  {
   "cell_type": "code",
   "execution_count": 2,
   "metadata": {},
   "outputs": [],
   "source": [
    "linear_df = pd.read_csv(\"linear_19BCE0238.csv\")\n",
    "non_linear_df = pd.read_csv(\"non_linear_19BCE0238.csv\")"
   ]
  },
  {
   "cell_type": "code",
   "execution_count": 3,
   "metadata": {},
   "outputs": [],
   "source": [
    "X_linear = linear_df.iloc[:,:2]\n",
    "y_linear = linear_df.iloc[:,-1]\n",
    "\n",
    "X_non_linear = non_linear_df.iloc[:,:2]\n",
    "y_non_linear = non_linear_df.iloc[:,-1]"
   ]
  },
  {
   "cell_type": "code",
   "execution_count": 5,
   "metadata": {},
   "outputs": [],
   "source": [
    "def compute_linear_SVM(X, y):\n",
    "    classifier = SVC(kernel='linear', C = 1.0)\n",
    "    classifier.fit(X, y)\n",
    "    \n",
    "    x_component = round(classifier.coef_[0][0],2)\n",
    "    y_component = round(classifier.coef_[0][1],2)\n",
    "    bias = round(classifier.intercept_[0], 2)\n",
    "    \n",
    "    print(\"{0}*X + {1}*Y + {2}= 0\".format(x_component, y_component, bias))\n",
    "\n",
    "    return (classifier,x_component,y_component,bias)\n"
   ]
  },
  {
   "cell_type": "code",
   "execution_count": 6,
   "metadata": {},
   "outputs": [
    {
     "name": "stdout",
     "output_type": "stream",
     "text": [
      "Line Equation for linear SVM\n",
      "1.0*X + -0.0*Y + -2.0= 0\n"
     ]
    },
    {
     "name": "stderr",
     "output_type": "stream",
     "text": [
      "<ipython-input-4-ed0fce26c6ec>:3: RuntimeWarning: divide by zero encountered in true_divide\n",
      "  y = (-a*x - c)/b\n"
     ]
    },
    {
     "data": {
      "image/png": "[encoded data removed]",
      "text/plain": [
       "<Figure size 432x288 with 1 Axes>"
      ]
     },
     "metadata": {
      "needs_background": "light"
     },
     "output_type": "display_data"
    }
   ],
   "source": [
    "print(\"Line Equation for linear SVM\")\n",
    "linear_classifier = compute_linear_SVM(X_linear,y_linear)"
   ]
  },
  {
   "cell_type": "code",
   "execution_count": 7,
   "metadata": {},
   "outputs": [],
   "source": [
    "def scale(tup):\n",
    "    x1, x2 = tup\n",
    "    if(math.sqrt((x1**2)+(x2**2)) > 2):\n",
    "        return ((4-x2 + abs(x1-x2), 4-x1 + abs(x1-x2)))\n",
    "    else:\n",
    "        return ((x1,x2))\n",
    "    \n",
    "def compute_non_linear_SVM(X, y):\n",
    "    data = X.copy()\n",
    "    for _ in range(X.shape[0]):\n",
    "        data.iloc[_,:] = scale(tuple(data.iloc[_,:]))\n",
    "    values = compute_linear_SVM(data, y)\n",
    "    return values"
   ]
  },
  {
   "cell_type": "code",
   "execution_count": 8,
   "metadata": {},
   "outputs": [
    {
     "name": "stdout",
     "output_type": "stream",
     "text": [
      "Line Equation for non linear SVM\n",
      "1.0*X + 1.0*Y + -3.0= 0\n"
     ]
    },
    {
     "data": {
      "image/png": "[encoded data removed]",
      "text/plain": [
       "<Figure size 432x288 with 1 Axes>"
      ]
     },
     "metadata": {
      "needs_background": "light"
     },
     "output_type": "display_data"
    }
   ],
   "source": [
    "print(\"Line Equation for non linear SVM\")\n",
    "non_linear_classifier = compute_non_linear_SVM(X_non_linear, y_non_linear)"
   ]
  },
  {
   "cell_type": "code",
   "execution_count": null,
   "metadata": {},
   "outputs": [],
   "source": []
  }
 ],
 "metadata": {
  "kernelspec": {
   "display_name": "Python 3",
   "language": "python",
   "name": "python3"
  },
  "language_info": {
   "codemirror_mode": {
    "name": "ipython",
    "version": 3
   },
   "file_extension": ".py",
   "mimetype": "text/x-python",
   "name": "python",
   "nbconvert_exporter": "python",
   "pygments_lexer": "ipython3",
   "version": "3.8.3"
  }
 },
 "nbformat": 4,
 "nbformat_minor": 4
}
