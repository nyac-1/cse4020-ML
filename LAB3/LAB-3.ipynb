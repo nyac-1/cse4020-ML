{
 "cells": [
  {
   "cell_type": "code",
   "execution_count": 1,
   "metadata": {},
   "outputs": [],
   "source": [
    "import numpy as np"
   ]
  },
  {
   "cell_type": "code",
   "execution_count": 2,
   "metadata": {},
   "outputs": [],
   "source": [
    "def linear_regression(x, y):\n",
    "    n = np.size(x)\n",
    "    m_x = np.mean(x)\n",
    "    m_y = np.mean(y)\n",
    "    SS_xy = np.sum(y*x) - n*m_y*m_x\n",
    "    SS_xx = np.sum(x*x) - n*m_x*m_x\n",
    "    b = SS_xy / SS_xx\n",
    "    a = m_y - b*m_x\n",
    " \n",
    "    return (round(a,4), round(b,4))"
   ]
  },
  {
   "cell_type": "code",
   "execution_count": 3,
   "metadata": {},
   "outputs": [
    {
     "name": "stdout",
     "output_type": "stream",
     "text": [
      "Linear Regression\n",
      "Y = 74.1151 + (-1.3537)*X \n"
     ]
    }
   ],
   "source": [
    "x_lin = np.array([30, 28, 32, 25, 25, 25, 22, 24, 35, 40])\n",
    "y_lin = np.array([25, 30, 27, 40, 42, 40, 50, 45, 30, 25])\n",
    "\n",
    "a, b = linear_regression(x_lin, y_lin)\n",
    "print(\"Linear Regression\")\n",
    "print(\"Y = \"+str(a)+\" + (\"+str(b)+\")*X \")"
   ]
  },
  {
   "cell_type": "code",
   "execution_count": 4,
   "metadata": {},
   "outputs": [],
   "source": [
    "def multiple_regression(x1,x2,y):\n",
    "    n = np.size(x1)\n",
    "    x1_x1 = x1*x1\n",
    "    x2_x2 = x2*x2\n",
    "    y_y = y*y    \n",
    "    x1_x2 = x1*x2\n",
    "    x1_y = x1*y\n",
    "    x2_y = x2*y\n",
    "    \n",
    "    X1_square =  np.sum(x1_x1) - (np.sum(x1)*np.sum(x1))/n\n",
    "    X2_square =  np.sum(x2_x2) - (np.sum(x2)*np.sum(x2))/n\n",
    "    y_square =  np.sum(y_y) - (np.sum(y)*np.sum(y))/n\n",
    "    \n",
    "    X1_X2 = np.sum(x1_x2) - (np.sum(x1)*np.sum(x2))/n\n",
    "    X1_y = np.sum(x1_y) - (np.sum(x1)*np.sum(y))/n\n",
    "    X2_y = np.sum(x2_y) - (np.sum(x2)*np.sum(y))/n\n",
    "    \n",
    "    b1 = ((X2_square*X1_y) - (X1_X2*X2_y))/(X1_square*X2_square - X1_X2*X1_X2)\n",
    "    b2 = ((X1_square*X2_y) - (X1_X2*X1_y))/(X1_square*X2_square - X1_X2*X1_X2)\n",
    "    \n",
    "    a = np.mean(y) - b1* np.mean(x1) - b2* np.mean(x2)\n",
    "    \n",
    "    return(round(a, 4), round(b1, 4), round(b2, 4))"
   ]
  },
  {
   "cell_type": "code",
   "execution_count": 6,
   "metadata": {},
   "outputs": [
    {
     "name": "stdout",
     "output_type": "stream",
     "text": [
      "Y = -6.8675 + (3.1479)*X1  + (-1.6561)*X2 \n"
     ]
    }
   ],
   "source": [
    "# x_new_1 = np.array([3,4,5,6,2])\n",
    "# x_new_2 = np.array([8,5,7,3,1])\n",
    "# y_new = np.array([-3.7,3.5,2.5,11.5,5.7])\n",
    "\n",
    "x_new_1 = np.array([60,62,67,70,71,72,75,78])\n",
    "x_new_2 = np.array([22,25,24,20,15,14,14,11])\n",
    "y_new = np.array([140,155,159,179,192,200,212,215])\n",
    "\n",
    "a,b1,b2 = multiple_regression(x_new_1, x_new_2, y_new)\n",
    "print(\"Y = \"+str(a)+\" + (\"+str(b1)+\")*X1 \"+\" + (\"+str(b2)+\")*X2 \")"
   ]
  },
  {
   "cell_type": "code",
   "execution_count": 9,
   "metadata": {},
   "outputs": [
    {
     "name": "stdout",
     "output_type": "stream",
     "text": [
      "140\n",
      "155\n",
      "159\n",
      "179\n",
      "192\n",
      "200\n",
      "212\n",
      "215\n"
     ]
    }
   ],
   "source": [
    "for x in y_new:\n",
    "    print(x)"
   ]
  },
  {
   "cell_type": "code",
   "execution_count": null,
   "metadata": {},
   "outputs": [],
   "source": []
  }
 ],
 "metadata": {
  "kernelspec": {
   "display_name": "Python 3",
   "language": "python",
   "name": "python3"
  },
  "language_info": {
   "codemirror_mode": {
    "name": "ipython",
    "version": 3
   },
   "file_extension": ".py",
   "mimetype": "text/x-python",
   "name": "python",
   "nbconvert_exporter": "python",
   "pygments_lexer": "ipython3",
   "version": "3.8.3"
  }
 },
 "nbformat": 4,
 "nbformat_minor": 4
}
