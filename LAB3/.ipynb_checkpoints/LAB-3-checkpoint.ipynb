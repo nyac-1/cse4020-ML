{
 "cells": [
  {
   "cell_type": "code",
   "execution_count": 1,
   "metadata": {},
   "outputs": [],
   "source": [
    "import numpy as np"
   ]
  },
  {
   "cell_type": "code",
   "execution_count": 25,
   "metadata": {},
   "outputs": [],
   "source": [
    "def linear_regression(x, y):\n",
    "    n = np.size(x)\n",
    "    m_x = np.mean(x)\n",
    "    m_y = np.mean(y)\n",
    "    SS_xy = np.sum(y*x) - n*m_y*m_x\n",
    "    SS_xx = np.sum(x*x) - n*m_x*m_x\n",
    "    b = SS_xy / SS_xx\n",
    "    a = m_y - b*m_x\n",
    " \n",
    "    return (round(a,4), round(b,4))"
   ]
  },
  {
   "cell_type": "code",
   "execution_count": 29,
   "metadata": {},
   "outputs": [
    {
     "name": "stdout",
     "output_type": "stream",
     "text": [
      "Y = 74.1151 + (-1.3537)*X \n"
     ]
    }
   ],
   "source": [
    "x_lin = np.array([30, 28, 32, 25, 25, 25, 22, 24, 35, 40])\n",
    "y_lin = np.array([25, 30, 27, 40, 42, 40, 50, 45, 30, 25])\n",
    "\n",
    "a, b = linear_regression(x_lin, y_lin)\n",
    "print(\"Linear Regression\")\n",
    "print(\"Y = \"+str(a)+\" + (\"+str(b)+\")*X \")"
   ]
  },
  {
   "cell_type": "code",
   "execution_count": 22,
   "metadata": {},
   "outputs": [
    {
     "data": {
      "text/plain": [
       "array([0, 1, 2, 3, 4, 5, 6, 7, 8, 9])"
      ]
     },
     "execution_count": 22,
     "metadata": {},
     "output_type": "execute_result"
    }
   ],
   "source": [
    "x"
   ]
  },
  {
   "cell_type": "code",
   "execution_count": null,
   "metadata": {},
   "outputs": [],
   "source": []
  }
 ],
 "metadata": {
  "kernelspec": {
   "display_name": "Python 3",
   "language": "python",
   "name": "python3"
  },
  "language_info": {
   "codemirror_mode": {
    "name": "ipython",
    "version": 3
   },
   "file_extension": ".py",
   "mimetype": "text/x-python",
   "name": "python",
   "nbconvert_exporter": "python",
   "pygments_lexer": "ipython3",
   "version": "3.8.3"
  }
 },
 "nbformat": 4,
 "nbformat_minor": 4
}
